{
 "cells": [
  {
   "cell_type": "code",
   "execution_count": null,
   "id": "fde0f01a",
   "metadata": {},
   "outputs": [
    {
     "name": "stdout",
     "output_type": "stream",
     "text": [
      "MetaTrader5 package version: 5.0.45\n",
      "MetaTrader5 author: MetaQuotes Ltd.\n"
     ]
    }
   ],
   "source": [
    "from datetime import datetime\n",
    "import datetime as dt\n",
    "import pytz\n",
    "import seaborn as sns\n",
    "import matplotlib.pyplot as plt\n",
    "import MetaTrader5 as mt5\n",
    "import pandas as pd\n",
    "import pytz\n",
    "import numpy as np\n",
    "import os\n",
    "\n",
    "# Display MetaTrader5 package information\n",
    "print(f\"MetaTrader5 package version: {mt5.__version__}\")\n",
    "print(f\"MetaTrader5 author: {mt5.__author__}\")\n",
    "\n",
    "# Initialize connection to the MetaTrader 5 terminal\n",
    "if not mt5.initialize():\n",
    "    print(\"initialize() failed, error code =\", mt5.last_error())\n",
    "    quit()\n",
    "\n",
    "# Set the time zone to UTC\n",
    "timezone = pytz.timezone(\"Etc/UTC\")\n",
    "\n",
    "lst_ = ['EURUSD', 'USDJPY', 'GBPUSD', 'USDCHF', 'AUDUSD', 'USDCAD', 'NZDUSD','EURGBP', 'EURAUD', 'EURJPY', 'GBPJPY', 'AUDJPY', 'CADJPY', 'CHFJPY',\n",
    "        'NZDJPY', 'GBPAUD', 'GBPCAD', 'AUDCHF', 'AUDCAD', 'AUDNZD', 'EURNZD','GBPNZD', 'CADCHF', 'NZDCAD', 'NZDCHF', 'EURCHF', 'EURCAD', 'AUDSGD', 'CADSGD', 'CHFJPY', 'NZDSGD']\n",
    "\n",
    "dict_ = {}\n",
    "\n",
    "for symbol in lst_:\n",
    "    # Define the date and time range for historical data (weekly version)\n",
    "    days_offset = dt.timedelta(weeks=4)\n",
    "    local_time = dt.datetime.today()\n",
    "\n",
    "    # Calculate the start and end dates for the weekly range in UTC\n",
    "    utc_from = local_time - days_offset\n",
    "    utc_to = local_time\n",
    "\n",
    "    # Get historical price data for the symbol on a daily timeframe\n",
    "    timeframe = mt5.TIMEFRAME_D1\n",
    "    rates = mt5.copy_rates_range(symbol, timeframe, utc_from, utc_to)\n",
    "\n",
    "    # Check if data retrieval was successful\n",
    "    if rates is not None and len(rates) > 0:\n",
    "        # Create a DataFrame from the obtained data\n",
    "        df = pd.DataFrame(rates)\n",
    "\n",
    "        # Convert time in seconds to 'datetime' format\n",
    "        df['time'] = pd.to_datetime(df['time'], unit='s')\n",
    "\n",
    "        # Store the DataFrame in the dictionary\n",
    "        dict_[f'df_30_{symbol}'] = df\n",
    "    else:\n",
    "        print(f\"Failed to retrieve data for {symbol}\")\n",
    "\n",
    "# Shut down the connection to the MetaTrader 5 terminal\n",
    "mt5.shutdown()\n",
    "\n",
    "# Display the first 10 elements of the obtained data for each currency pair\n",
    "for key, df in dict_.items():\n",
    "    print(f\"\\nData for {key}:\")\n",
    "    print(df.head(10))\n"
   ]
  },
  {
   "cell_type": "code",
   "execution_count": null,
   "id": "18a05747",
   "metadata": {},
   "outputs": [],
   "source": [
    "fig, axs = plt.subplots(figsize=(15, 9))\n",
    "range_ = dict_['df_30_EURUSD']['close']-dict_['df_30_EURUSD']['open']\n",
    "plt.plot(dict_['df_30_EURUSD']['time'], range_, color='green')\n",
    "plt.xlabel(\"Period\")\n",
    "plt.ylabel('Price Change')\n",
    "plt.title('EURUSD')"
   ]
  },
  {
   "cell_type": "code",
   "execution_count": null,
   "id": "985070a4",
   "metadata": {},
   "outputs": [],
   "source": [
    "df_close = pd.concat([dict_[i]['close'] for i in dict_.keys() if 'JPY' not in i], axis='columns')"
   ]
  },
  {
   "cell_type": "code",
   "execution_count": null,
   "id": "44de36a9",
   "metadata": {},
   "outputs": [],
   "source": [
    "df_close.columns = [i for i in lst_ if 'JPY' not in i]"
   ]
  },
  {
   "cell_type": "code",
   "execution_count": null,
   "id": "e943515d",
   "metadata": {},
   "outputs": [],
   "source": [
    "corr_close = df_close.corr()\n",
    "corr_close.to_excel('C:\\\\Users\\\\morara\\\\correlation\\\\Corr_Monthly.xlsx')"
   ]
  },
  {
   "cell_type": "code",
   "execution_count": null,
   "id": "8d9c0707",
   "metadata": {},
   "outputs": [],
   "source": [
    "fig, ax = plt.subplots(figsize=(17,15))\n",
    "hm = sns.heatmap(corr_close, annot=True,cmap='coolwarm', linewidths=0.5, ax=ax)\n",
    "folder_path = 'C:\\\\Users\\\\morara\\\\correlation\\\\'\n",
    "file_name = 'my_Corr-monthly.jpg'  # Change the file format to your preference (.png, .jpg, .pdf, etc.)\n",
    "plt.savefig(os.path.join(folder_path, file_name))  # Use os.path.join to combine folder_path and file_name\n",
    "plt.show();\n"
   ]
  },
  {
   "cell_type": "code",
   "execution_count": null,
   "id": "72a77713",
   "metadata": {},
   "outputs": [],
   "source": []
  }
 ],
 "metadata": {
  "kernelspec": {
   "display_name": "Python 3 (ipykernel)",
   "language": "python",
   "name": "python3"
  },
  "language_info": {
   "codemirror_mode": {
    "name": "ipython",
    "version": 3
   },
   "file_extension": ".py",
   "mimetype": "text/x-python",
   "name": "python",
   "nbconvert_exporter": "python",
   "pygments_lexer": "ipython3",
   "version": "3.11.5"
  }
 },
 "nbformat": 4,
 "nbformat_minor": 5
}
